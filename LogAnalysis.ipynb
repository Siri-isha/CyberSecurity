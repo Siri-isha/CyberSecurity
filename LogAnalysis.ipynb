{
  "nbformat": 4,
  "nbformat_minor": 0,
  "metadata": {
    "colab": {
      "provenance": [],
      "authorship_tag": "ABX9TyPhNz33LOTlo+TRwXOKEIbT",
      "include_colab_link": true
    },
    "kernelspec": {
      "name": "python3",
      "display_name": "Python 3"
    },
    "language_info": {
      "name": "python"
    }
  },
  "cells": [
    {
      "cell_type": "markdown",
      "metadata": {
        "id": "view-in-github",
        "colab_type": "text"
      },
      "source": [
        "<a href=\"https://colab.research.google.com/github/Siri-isha/CyberSecurity/blob/main/LogAnalysis.ipynb\" target=\"_parent\"><img src=\"https://colab.research.google.com/assets/colab-badge.svg\" alt=\"Open In Colab\"/></a>"
      ]
    },
    {
      "cell_type": "markdown",
      "source": [
        "## Log Analysis"
      ],
      "metadata": {
        "id": "4LrY6QYdGv8l"
      }
    },
    {
      "cell_type": "markdown",
      "source": [
        "Define the regex pattern for the log entries."
      ],
      "metadata": {
        "id": "qmFSPec6G0bI"
      }
    },
    {
      "cell_type": "code",
      "execution_count": 4,
      "metadata": {
        "id": "hgE44m4Pp5u_"
      },
      "outputs": [],
      "source": [
        "import re\n",
        "\n",
        "#the regex pattern for the log entries\n",
        "regex_pattern = r'(?P<ip_address>\\d{1,3}\\.\\d{1,3}\\.\\d{1,3}\\.\\d{1,3}) - - \\[(?P<timestamp>\\d{1,2}/\\w{3}/\\d{4}:\\d{2}:\\d{2}:\\d{2} \\+\\d{4})\\] \"(?P<request_method>\\w+) (?P<request_path>/\\S+) (?P<http_version>HTTP/\\d\\.\\d)\" (?P<status_code>\\d{3}) (?P<response_size>\\d+)'\n"
      ]
    },
    {
      "cell_type": "markdown",
      "source": [
        "Parse the log file and print only the first 5 entries."
      ],
      "metadata": {
        "id": "E2FnIjFKG_PJ"
      }
    },
    {
      "cell_type": "code",
      "source": [
        "#function to read the log file from the path and parse it\n",
        "\n",
        "def read_log_file(file_path):\n",
        "    log_entries = []\n",
        "    with open('/content/sample_data/log_files.txt', 'r') as file:\n",
        "        for line in file:\n",
        "            match = re.match(regex_pattern, line)\n",
        "            if match:\n",
        "                log_entry = {\n",
        "                    'ip_address': match.group('ip_address'),\n",
        "                    'timestamp': match.group('timestamp'),\n",
        "                    'request_method': match.group('request_method'),\n",
        "                    'request_path': match.group('request_path'),\n",
        "                    'http_version': match.group('http_version'),\n",
        "                    'status_code': match.group('status_code'),\n",
        "                    'response_size': match.group('response_size')\n",
        "                }\n",
        "                log_entries.append(log_entry)\n",
        "    return log_entries\n",
        "\n",
        "file_path = '/content/sample_data/log_files.txt'\n",
        "log_entries = read_log_file(file_path)\n",
        "\n",
        "#print the first 5 entries\n",
        "for i in range(5):\n",
        "  print(log_entries[i])"
      ],
      "metadata": {
        "colab": {
          "base_uri": "https://localhost:8080/"
        },
        "id": "BsREy0kJ3tDd",
        "outputId": "a9c2a2c3-bdea-4262-bcd7-f4f12e00fb7f"
      },
      "execution_count": 5,
      "outputs": [
        {
          "output_type": "stream",
          "name": "stdout",
          "text": [
            "{'ip_address': '192.168.1.208', 'timestamp': '12/Dec/2023:04:52:50 +0000', 'request_method': 'DELETE', 'request_path': '/contact.html', 'http_version': 'HTTP/1.1', 'status_code': '404', 'response_size': '34982'}\n",
            "{'ip_address': '192.168.1.171', 'timestamp': '15/Feb/2023:21:04:10 +0000', 'request_method': 'DELETE', 'request_path': '/about.html', 'http_version': 'HTTP/1.1', 'status_code': '500', 'response_size': '18515'}\n",
            "{'ip_address': '192.168.1.67', 'timestamp': '12/Jun/2022:11:39:58 +0000', 'request_method': 'DELETE', 'request_path': '/contact.html', 'http_version': 'HTTP/1.1', 'status_code': '500', 'response_size': '86103'}\n",
            "{'ip_address': '192.168.1.34', 'timestamp': '4/Jan/2023:00:12:33 +0000', 'request_method': 'DELETE', 'request_path': '/index.html', 'http_version': 'HTTP/1.1', 'status_code': '404', 'response_size': '55833'}\n",
            "{'ip_address': '192.168.1.187', 'timestamp': '9/May/2022:16:29:32 +0000', 'request_method': 'PUT', 'request_path': '/about.html', 'http_version': 'HTTP/1.1', 'status_code': '404', 'response_size': '63616'}\n"
          ]
        }
      ]
    },
    {
      "cell_type": "markdown",
      "source": [
        "Import defaultdict from collections module to handle counting of status codes"
      ],
      "metadata": {
        "id": "J9s1gvM_46nh"
      }
    },
    {
      "cell_type": "code",
      "source": [
        "from collections import defaultdict\n",
        "\n",
        "#initialize the variable with defaultdict object\n",
        "status_code_counts = defaultdict(int)\n",
        "\n",
        "#Count the number of entries for various status_codes and save in a dictionary\n",
        "for entry in log_entries:\n",
        "  status_code_counts[entry['status_code']] += 1\n",
        "\n",
        "print(status_code_counts)"
      ],
      "metadata": {
        "colab": {
          "base_uri": "https://localhost:8080/"
        },
        "id": "B87TN6Ll5DS5",
        "outputId": "0c465779-8f0d-474b-b877-28ef904b76c8"
      },
      "execution_count": 6,
      "outputs": [
        {
          "output_type": "stream",
          "name": "stdout",
          "text": [
            "defaultdict(<class 'int'>, {'404': 326, '500': 359, '200': 315})\n"
          ]
        }
      ]
    },
    {
      "cell_type": "markdown",
      "source": [
        "Define a function that reads log entries from the specified file and extracts the HTTP status code from each entry."
      ],
      "metadata": {
        "id": "w2NbEV7F7bJ8"
      }
    },
    {
      "cell_type": "code",
      "source": [
        "#function that extracts and returns HTTP status codes for the given log entries input\n",
        "def read_status_codes(log_entries):\n",
        "    status_codes = defaultdict(int)\n",
        "\n",
        "    for entry in log_entries:\n",
        "        status_codes[entry['status_code']] += 1\n",
        "\n",
        "    return status_codes\n",
        "\n",
        "file_path = '/content/sample_data/log_files.txt'\n",
        "log_entries = read_log_file(file_path)\n",
        "read_status_codes(log_entries)"
      ],
      "metadata": {
        "colab": {
          "base_uri": "https://localhost:8080/"
        },
        "id": "sYJLaor27Zxv",
        "outputId": "1ff11334-a86d-4d86-a5bf-60355dd34ae0"
      },
      "execution_count": 7,
      "outputs": [
        {
          "output_type": "execute_result",
          "data": {
            "text/plain": [
              "defaultdict(int, {'404': 326, '500': 359, '200': 315})"
            ]
          },
          "metadata": {},
          "execution_count": 7
        }
      ]
    },
    {
      "cell_type": "markdown",
      "source": [
        "Define a function to count the occurrences of each status code"
      ],
      "metadata": {
        "id": "PqNVQXGLQVKT"
      }
    },
    {
      "cell_type": "code",
      "source": [
        "def count_status_codes(log_entries):\n",
        "    status_codes = defaultdict(int)\n",
        "\n",
        "    for entry in log_entries:\n",
        "        status_codes[entry['status_code']] += 1\n",
        "    print(status_codes)\n",
        "\n",
        "file_path = '/content/sample_data/log_files.txt'\n",
        "log_entries = read_log_file(file_path)\n",
        "count_status_codes(log_entries)\n"
      ],
      "metadata": {
        "colab": {
          "base_uri": "https://localhost:8080/"
        },
        "id": "xGv-yFRIBCYz",
        "outputId": "10f6426d-cc61-4de1-9a67-e9eecb4dc914"
      },
      "execution_count": 8,
      "outputs": [
        {
          "output_type": "stream",
          "name": "stdout",
          "text": [
            "defaultdict(<class 'int'>, {'404': 326, '500': 359, '200': 315})\n"
          ]
        }
      ]
    },
    {
      "cell_type": "markdown",
      "source": [
        "Plot the above counts in a bar chart"
      ],
      "metadata": {
        "id": "HkwWw2DLRY7V"
      }
    },
    {
      "cell_type": "code",
      "source": [
        "import matplotlib.pyplot as plt\n",
        "\n",
        "status_codes = list(status_code_counts.keys())\n",
        "counts = list(status_code_counts.values())\n",
        "\n",
        "plt.bar(status_codes, counts)\n",
        "plt.xlabel('Status Code')\n",
        "plt.ylabel('Count')\n",
        "plt.title('Occurrences of status codes in the log file')\n",
        "plt.show()"
      ],
      "metadata": {
        "colab": {
          "base_uri": "https://localhost:8080/",
          "height": 472
        },
        "id": "WJDAtIoVRkWX",
        "outputId": "f4419ea1-b7fd-478f-addd-235e8434e579"
      },
      "execution_count": 9,
      "outputs": [
        {
          "output_type": "display_data",
          "data": {
            "text/plain": [
              "<Figure size 640x480 with 1 Axes>"
            ],
            "image/png": "[encoded data removed]"
          },
          "metadata": {}
        }
      ]
    },
    {
      "cell_type": "markdown",
      "source": [
        "Define a function to get the percentage of successful requests"
      ],
      "metadata": {
        "id": "JsH-uyKkUrph"
      }
    },
    {
      "cell_type": "code",
      "source": [
        "#function to calculate the percentage of successful requests\n",
        "def percentage_successful_requests(log_entries):\n",
        "    #Number of entries will give total number of requests\n",
        "    total_requests = len(log_entries)\n",
        "    #Status code 200 value from the dictionary gives total number of successful requests\n",
        "    successful_requests = status_code_counts['200']\n",
        "    #Calculate the percentage\n",
        "    percentage = (successful_requests / total_requests) * 100\n",
        "    return percentage\n",
        "\n",
        "#Call the function with input of log entries\n",
        "file_path = '/content/sample_data/log_files.txt'\n",
        "log_entries = read_log_file(file_path)\n",
        "print(\"Percentage of successful requests:\", percentage_successful_requests(log_entries), \"%\")\n"
      ],
      "metadata": {
        "colab": {
          "base_uri": "https://localhost:8080/"
        },
        "id": "xITpVkERT4Qw",
        "outputId": "67f17f75-cfb3-4bc8-9a46-6244b85fb8b7"
      },
      "execution_count": 14,
      "outputs": [
        {
          "output_type": "stream",
          "name": "stdout",
          "text": [
            "Percentage of successful requests: 31.5 %\n"
          ]
        }
      ]
    },
    {
      "cell_type": "markdown",
      "source": [
        "Define a function to get top 3 URLs and their respective count"
      ],
      "metadata": {
        "id": "KETUIS9cV2Oz"
      }
    },
    {
      "cell_type": "code",
      "source": [
        "def top_3_urls(log_entries):\n",
        "    url_counts = defaultdict(int)\n",
        "    for entry in log_entries:\n",
        "        url_counts[entry['request_path']] += 1\n",
        "        # Sort the URL counts in descending order\n",
        "        sorted_urls = sorted(url_counts.items(), key=lambda x: x[1], reverse=True)\n",
        "    print(\"Top 3 URLs and their respective count:\")\n",
        "    for i in range(3):\n",
        "        print(sorted_urls[i])\n",
        "\n",
        "\n",
        "file_path = '/content/sample_data/log_files.txt'\n",
        "log_entries = read_log_file(file_path)\n",
        "top_3_urls(log_entries)"
      ],
      "metadata": {
        "colab": {
          "base_uri": "https://localhost:8080/"
        },
        "id": "SoNLaAe-JJXb",
        "outputId": "4679ca77-1447-424b-d9b9-231a0e3f1af4"
      },
      "execution_count": 22,
      "outputs": [
        {
          "output_type": "stream",
          "name": "stdout",
          "text": [
            "Top 3 URLs and their respective count:\n",
            "('/services.html', 273)\n",
            "('/about.html', 245)\n",
            "('/index.html', 245)\n"
          ]
        }
      ]
    },
    {
      "cell_type": "markdown",
      "source": [
        "Define a function to get the IP address and the number of requests made by the most active client."
      ],
      "metadata": {
        "id": "tkJiUCVYGgYn"
      }
    },
    {
      "cell_type": "code",
      "source": [
        "#In the logs, sort by timestamp, get the latest entry and extract it's IP address and then count it's number of occurrences\n",
        "\n",
        "def most_active_client(log_entries):\n",
        "    #sort the entries by timestamp\n",
        "    sorted_entries = sorted(log_entries, key=lambda x: x['timestamp'], reverse=True)\n",
        "    for i in range(10):\n",
        "        print(sorted_entries[i])\n",
        "    print(\"(..........)\")\n",
        "    #get the latest entry\n",
        "    latest_entry = sorted_entries[0]\n",
        "    #IP address of latest entry\n",
        "    ip_address = latest_entry['ip_address']\n",
        "    #count the number of requests made by the most active client\n",
        "    request_count = 0\n",
        "    for entry in log_entries:\n",
        "        if entry['ip_address'] == ip_address:\n",
        "            request_count += 1\n",
        "\n",
        "    print(f\"IP address and the number of requests made by the most active client: {ip_address}, {request_count}, {latest_entry['timestamp']}\")\n",
        "\n",
        "\n",
        "file_path = '/content/sample_data/log_files.txt'\n",
        "log_entries = read_log_file(file_path)\n",
        "for i in range(10):\n",
        "  print(log_entries[i])\n",
        "print(\".....................\")\n",
        "most_active_client(log_entries)"
      ],
      "metadata": {
        "colab": {
          "base_uri": "https://localhost:8080/"
        },
        "id": "98x8ZxPFV7UM",
        "outputId": "07bab6cd-51b7-4845-b88a-3f71214628b6"
      },
      "execution_count": 32,
      "outputs": [
        {
          "output_type": "stream",
          "name": "stdout",
          "text": [
            "{'ip_address': '192.168.1.208', 'timestamp': '12/Dec/2023:04:52:50 +0000', 'request_method': 'DELETE', 'request_path': '/contact.html', 'http_version': 'HTTP/1.1', 'status_code': '404', 'response_size': '34982'}\n",
            "{'ip_address': '192.168.1.171', 'timestamp': '15/Feb/2023:21:04:10 +0000', 'request_method': 'DELETE', 'request_path': '/about.html', 'http_version': 'HTTP/1.1', 'status_code': '500', 'response_size': '18515'}\n",
            "{'ip_address': '192.168.1.67', 'timestamp': '12/Jun/2022:11:39:58 +0000', 'request_method': 'DELETE', 'request_path': '/contact.html', 'http_version': 'HTTP/1.1', 'status_code': '500', 'response_size': '86103'}\n",
            "{'ip_address': '192.168.1.34', 'timestamp': '4/Jan/2023:00:12:33 +0000', 'request_method': 'DELETE', 'request_path': '/index.html', 'http_version': 'HTTP/1.1', 'status_code': '404', 'response_size': '55833'}\n",
            "{'ip_address': '192.168.1.187', 'timestamp': '9/May/2022:16:29:32 +0000', 'request_method': 'PUT', 'request_path': '/about.html', 'http_version': 'HTTP/1.1', 'status_code': '404', 'response_size': '63616'}\n",
            "{'ip_address': '192.168.1.231', 'timestamp': '8/Dec/2023:06:34:37 +0000', 'request_method': 'PUT', 'request_path': '/about.html', 'http_version': 'HTTP/1.1', 'status_code': '500', 'response_size': '14785'}\n",
            "{'ip_address': '192.168.1.184', 'timestamp': '11/Mar/2023:04:22:45 +0000', 'request_method': 'DELETE', 'request_path': '/index.html', 'http_version': 'HTTP/1.1', 'status_code': '404', 'response_size': '49267'}\n",
            "{'ip_address': '192.168.1.84', 'timestamp': '16/Jan/2022:08:38:27 +0000', 'request_method': 'DELETE', 'request_path': '/services.html', 'http_version': 'HTTP/1.1', 'status_code': '500', 'response_size': '55742'}\n",
            "{'ip_address': '192.168.1.233', 'timestamp': '21/Jun/2023:06:20:40 +0000', 'request_method': 'DELETE', 'request_path': '/contact.html', 'http_version': 'HTTP/1.1', 'status_code': '404', 'response_size': '72584'}\n",
            "{'ip_address': '192.168.1.181', 'timestamp': '13/Feb/2022:11:44:33 +0000', 'request_method': 'DELETE', 'request_path': '/index.html', 'http_version': 'HTTP/1.1', 'status_code': '404', 'response_size': '97545'}\n",
            ".....................\n",
            "{'ip_address': '192.168.1.177', 'timestamp': '9/Sep/2021:01:02:04 +0000', 'request_method': 'GET', 'request_path': '/contact.html', 'http_version': 'HTTP/1.1', 'status_code': '200', 'response_size': '29534'}\n",
            "{'ip_address': '192.168.1.10', 'timestamp': '9/Sep/2020:23:50:36 +0000', 'request_method': 'GET', 'request_path': '/contact.html', 'http_version': 'HTTP/1.1', 'status_code': '200', 'response_size': '17853'}\n",
            "{'ip_address': '192.168.1.233', 'timestamp': '9/Oct/2023:20:54:17 +0000', 'request_method': 'DELETE', 'request_path': '/services.html', 'http_version': 'HTTP/1.1', 'status_code': '500', 'response_size': '50109'}\n",
            "{'ip_address': '192.168.1.190', 'timestamp': '9/Oct/2023:06:05:22 +0000', 'request_method': 'GET', 'request_path': '/services.html', 'http_version': 'HTTP/1.1', 'status_code': '200', 'response_size': '19840'}\n",
            "{'ip_address': '192.168.1.89', 'timestamp': '9/Oct/2021:21:02:44 +0000', 'request_method': 'PUT', 'request_path': '/contact.html', 'http_version': 'HTTP/1.1', 'status_code': '404', 'response_size': '43026'}\n",
            "{'ip_address': '192.168.1.110', 'timestamp': '9/Oct/2020:12:41:10 +0000', 'request_method': 'DELETE', 'request_path': '/services.html', 'http_version': 'HTTP/1.1', 'status_code': '200', 'response_size': '85076'}\n",
            "{'ip_address': '192.168.1.10', 'timestamp': '9/Nov/2023:08:32:22 +0000', 'request_method': 'GET', 'request_path': '/contact.html', 'http_version': 'HTTP/1.1', 'status_code': '404', 'response_size': '40391'}\n",
            "{'ip_address': '192.168.1.136', 'timestamp': '9/Nov/2022:17:29:35 +0000', 'request_method': 'DELETE', 'request_path': '/index.html', 'http_version': 'HTTP/1.1', 'status_code': '500', 'response_size': '37157'}\n",
            "{'ip_address': '192.168.1.150', 'timestamp': '9/Nov/2020:10:47:27 +0000', 'request_method': 'PUT', 'request_path': '/services.html', 'http_version': 'HTTP/1.1', 'status_code': '404', 'response_size': '15782'}\n",
            "{'ip_address': '192.168.1.10', 'timestamp': '9/May/2023:15:30:26 +0000', 'request_method': 'DELETE', 'request_path': '/services.html', 'http_version': 'HTTP/1.1', 'status_code': '200', 'response_size': '90158'}\n",
            "(..........)\n",
            "IP address and the number of requests made by the most active client: 192.168.1.177, 2, 9/Sep/2021:01:02:04 +0000\n"
          ]
        }
      ]
    }
  ]
}